{
  "nbformat": 4,
  "nbformat_minor": 0,
  "metadata": {
    "colab": {
      "name": "Day3_session2_Excercise.ipynb",
      "provenance": [],
      "authorship_tag": "ABX9TyOTc50o5txfDPSHI+C3V8l2",
      "include_colab_link": true
    },
    "kernelspec": {
      "name": "python3",
      "display_name": "Python 3"
    }
  },
  "cells": [
    {
      "cell_type": "markdown",
      "metadata": {
        "id": "view-in-github",
        "colab_type": "text"
      },
      "source": [
        "<a href=\"https://colab.research.google.com/github/sujanajn10/Python_Workshop/blob/master/Day3_session2_Excercise.ipynb\" target=\"_parent\"><img src=\"https://colab.research.google.com/assets/colab-badge.svg\" alt=\"Open In Colab\"/></a>"
      ]
    },
    {
      "cell_type": "code",
      "metadata": {
        "id": "d2VjdifXbQte",
        "colab_type": "code",
        "colab": {}
      },
      "source": [
        ""
      ],
      "execution_count": null,
      "outputs": []
    },
    {
      "cell_type": "markdown",
      "metadata": {
        "id": "N9wpEOygGf9l",
        "colab_type": "text"
      },
      "source": [
        "Write a Python Program to Print Multiplication Table of a  number which got through keyboard"
      ]
    },
    {
      "cell_type": "code",
      "metadata": {
        "id": "tsuHVsygGk-t",
        "colab_type": "code",
        "colab": {
          "base_uri": "https://localhost:8080/",
          "height": 51
        },
        "outputId": "9a2a0806-2a0c-49de-c45e-b076ce36219a"
      },
      "source": [
        "a=[]\n",
        "n=int(input(\"enter the value of n\"))\n",
        "for i in range(1,11):\n",
        "  b=i*n\n",
        "  a.append(str(b))\n",
        "print(','.join(a))"
      ],
      "execution_count": null,
      "outputs": [
        {
          "output_type": "stream",
          "text": [
            "enter the value of n2\n",
            "2,4,6,8,10,12,14,16,18,20\n"
          ],
          "name": "stdout"
        }
      ]
    },
    {
      "cell_type": "markdown",
      "metadata": {
        "id": "BH6_duOoHrvf",
        "colab_type": "text"
      },
      "source": [
        "Write a  Python Program to find the Armstrong Numbers between 1 and 2000 "
      ]
    },
    {
      "cell_type": "code",
      "metadata": {
        "id": "1GN_YE4FHwKV",
        "colab_type": "code",
        "colab": {
          "base_uri": "https://localhost:8080/",
          "height": 34
        },
        "outputId": "6e546b1d-7cb1-4f30-baee-b628d8bee120"
      },
      "source": [
        "a=[]\n",
        "for i in range(1,2001):\n",
        " temp=i\n",
        " d=0\n",
        " l=0\n",
        " s=0\n",
        " while(temp>0):\n",
        "  temp=temp//10\n",
        "  d=d+1\n",
        " temp=i\n",
        " while(temp>0):\n",
        "  l=temp%10\n",
        "  s=s+l**d\n",
        "  temp=temp//10\n",
        " if(s==i):\n",
        "  a.append(str(i))\n",
        "print(a)\n"
      ],
      "execution_count": null,
      "outputs": [
        {
          "output_type": "stream",
          "text": [
            "['1', '2', '3', '4', '5', '6', '7', '8', '9', '153', '370', '371', '407', '1634']\n"
          ],
          "name": "stdout"
        }
      ]
    },
    {
      "cell_type": "markdown",
      "metadata": {
        "id": "kqGLbi6HLcNd",
        "colab_type": "text"
      },
      "source": [
        "Write a python program to get the list of tuples (rollno, name) for n students by getting rollno and name through keyboard. Sort and print  them as rollno wise and name wise both ascending and descending as well as alphabetical and dealphabetical orders"
      ]
    },
    {
      "cell_type": "code",
      "metadata": {
        "id": "8n5m7hdWLieg",
        "colab_type": "code",
        "colab": {
          "base_uri": "https://localhost:8080/",
          "height": 289
        },
        "outputId": "a14af323-d30a-4034-f693-7ad8e7e9ea53"
      },
      "source": [
        "a=[]\n",
        "def inp():\n",
        "  rolno=input(\"enter the rolno\")\n",
        "  name=input(\"enter the name\")\n",
        "  return(rolno,name)\n",
        "n=int(input(\"Enter the value of n\"))\n",
        "for i in range(1,n+1):\n",
        "  a.append(inp())\n",
        "print(a)\n",
        "a.sort(key=lambda i:i[0])\n",
        "print(f'According to Rollno:Ascending order:{a}')\n",
        "print(f'According to Rollno:Descending order:{a[::-1]}')\n",
        "a.sort(key=lambda i:i[1])\n",
        "print(f'According to Name:Alphabeticallyorder:{a}')\n",
        "print(f'According to Name:Dealphabetically order:{a[::-1]}')"
      ],
      "execution_count": null,
      "outputs": [
        {
          "output_type": "stream",
          "text": [
            "Enter the value of n5\n",
            "enter the rolno2\n",
            "enter the nameseema\n",
            "enter the rolno5\n",
            "enter the nameerni\n",
            "enter the rolno1\n",
            "enter the nameavni\n",
            "enter the rolno3\n",
            "enter the nametanvi\n",
            "enter the rolno4\n",
            "enter the namesiri\n",
            "[('2', 'seema'), ('5', 'erni'), ('1', 'avni'), ('3', 'tanvi'), ('4', 'siri')]\n",
            "According to Rollno:Ascending order:[('1', 'avni'), ('2', 'seema'), ('3', 'tanvi'), ('4', 'siri'), ('5', 'erni')]\n",
            "According to Rollno:Descending order:[('5', 'erni'), ('4', 'siri'), ('3', 'tanvi'), ('2', 'seema'), ('1', 'avni')]\n",
            "According to Name:Alphabeticallyorder:[('1', 'avni'), ('5', 'erni'), ('2', 'seema'), ('4', 'siri'), ('3', 'tanvi')]\n",
            "According to Name:Dealphabetically order:[('3', 'tanvi'), ('4', 'siri'), ('2', 'seema'), ('5', 'erni'), ('1', 'avni')]\n"
          ],
          "name": "stdout"
        }
      ]
    },
    {
      "cell_type": "markdown",
      "metadata": {
        "id": "x6GxvZcBPBIm",
        "colab_type": "text"
      },
      "source": [
        "Python Program to Detect if Two Strings are Anagrams ( They are  the two strings which have same length and same words which may be different in their order)"
      ]
    },
    {
      "cell_type": "code",
      "metadata": {
        "id": "JuD-_DcyPGKu",
        "colab_type": "code",
        "colab": {
          "base_uri": "https://localhost:8080/",
          "height": 68
        },
        "outputId": "b8b97023-53ef-445f-c626-aec2a8123838"
      },
      "source": [
        "s=input(\"Enter the first string\")\n",
        "s2=input(\"Enter the second string\")\n",
        "if(sorted(s)==sorted(s2)):\n",
        "  print(\"Strings are anagram\")\n",
        "else:\n",
        "  print(\"strings arent anagram\")"
      ],
      "execution_count": null,
      "outputs": [
        {
          "output_type": "stream",
          "text": [
            "Enter the first stringanagram\n",
            "Enter the second stringnagaram\n",
            "Strings are anagram\n"
          ],
          "name": "stdout"
        }
      ]
    }
  ]
}